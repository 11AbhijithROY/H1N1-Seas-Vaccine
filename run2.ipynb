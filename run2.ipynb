{
 "cells": [
  {
   "cell_type": "code",
   "execution_count": 65,
   "id": "165649c1-9b40-482b-9fda-dd681f4c8bc5",
   "metadata": {},
   "outputs": [],
   "source": [
    "import pandas as pd\n",
    "import numpy as np\n",
    "import tensorflow as tf\n",
    "import matplotlib.pyplot as plt\n",
    "import seaborn as sns\n",
    "import os"
   ]
  },
  {
   "cell_type": "code",
   "execution_count": 136,
   "id": "d3001f89-9c09-4307-a6d4-2c733fdeb4e4",
   "metadata": {},
   "outputs": [],
   "source": [
    "from sklearn.model_selection import train_test_split\n",
    "from sklearn.impute import SimpleImputer\n",
    "from sklearn.preprocessing import PolynomialFeatures, LabelEncoder, MinMaxScaler, StandardScaler\n",
    "from sklearn.linear_model import LogisticRegression\n",
    "from sklearn.ensemble import RandomForestClassifier, AdaBoostClassifier, ExtraTreesClassifier\n",
    "from sklearn.tree import DecisionTreeClassifier\n",
    "from sklearn.naive_bayes import GaussianNB, MultinomialNB, CategoricalNB\n",
    "from sklearn.svm import SVC\n",
    "from sklearn.multioutput import MultiOutputClassifier\n",
    "from sklearn.pipeline import Pipeline\n",
    "from sklearn.compose import ColumnTransformer\n",
    "import sklearn.metrics as metrics"
   ]
  },
  {
   "cell_type": "code",
   "execution_count": 67,
   "id": "3896e6eb-9725-4b3e-aa1f-0c3ed22ef4e5",
   "metadata": {},
   "outputs": [
    {
     "name": "stdout",
     "output_type": "stream",
     "text": [
      "/Users/abhijithroy/Public/Projects/H1N1andSeasonalV\n"
     ]
    }
   ],
   "source": [
    "!pwd"
   ]
  },
  {
   "cell_type": "code",
   "execution_count": 68,
   "id": "5ea0313f-249a-4b0a-bc7c-809aa8a5e44f",
   "metadata": {},
   "outputs": [
    {
     "data": {
      "text/plain": [
       "['training_set_labels.csv',\n",
       " 'submission1.csv',\n",
       " 'H1N1predictor.ipynb',\n",
       " 'submission_format.csv',\n",
       " 'submission2.csv',\n",
       " 'training_set_features.csv',\n",
       " 'run2.ipynb',\n",
       " '.ipynb_checkpoints',\n",
       " 'test_set_features.csv']"
      ]
     },
     "execution_count": 68,
     "metadata": {},
     "output_type": "execute_result"
    }
   ],
   "source": [
    "os.listdir('./')"
   ]
  },
  {
   "cell_type": "code",
   "execution_count": 101,
   "id": "68d07b87-2ca2-4970-bbf4-ea957fde86ac",
   "metadata": {},
   "outputs": [],
   "source": [
    "# reading data\n",
    "\n",
    "train_features = pd.read_csv('training_set_features.csv')\n",
    "train_targets = pd.read_csv('training_set_labels.csv')\n",
    "submission_form = pd.read_csv('submission_format.csv')"
   ]
  },
  {
   "cell_type": "code",
   "execution_count": 181,
   "id": "df472fe0-bf9e-498f-97be-3200cafc9fdc",
   "metadata": {},
   "outputs": [],
   "source": [
    "test_data = pd.read_csv('test_set_features.csv')"
   ]
  },
  {
   "cell_type": "code",
   "execution_count": 102,
   "id": "40afce44-fdd8-426f-82f6-16ee0b2152c0",
   "metadata": {},
   "outputs": [
    {
     "data": {
      "text/plain": [
       "respondent_id                    int64\n",
       "h1n1_concern                   float64\n",
       "h1n1_knowledge                 float64\n",
       "behavioral_antiviral_meds      float64\n",
       "behavioral_avoidance           float64\n",
       "behavioral_face_mask           float64\n",
       "behavioral_wash_hands          float64\n",
       "behavioral_large_gatherings    float64\n",
       "behavioral_outside_home        float64\n",
       "behavioral_touch_face          float64\n",
       "doctor_recc_h1n1               float64\n",
       "doctor_recc_seasonal           float64\n",
       "chronic_med_condition          float64\n",
       "child_under_6_months           float64\n",
       "health_worker                  float64\n",
       "health_insurance               float64\n",
       "opinion_h1n1_vacc_effective    float64\n",
       "opinion_h1n1_risk              float64\n",
       "opinion_h1n1_sick_from_vacc    float64\n",
       "opinion_seas_vacc_effective    float64\n",
       "opinion_seas_risk              float64\n",
       "opinion_seas_sick_from_vacc    float64\n",
       "age_group                       object\n",
       "education                       object\n",
       "race                            object\n",
       "sex                             object\n",
       "income_poverty                  object\n",
       "marital_status                  object\n",
       "rent_or_own                     object\n",
       "employment_status               object\n",
       "hhs_geo_region                  object\n",
       "census_msa                      object\n",
       "household_adults               float64\n",
       "household_children             float64\n",
       "employment_industry             object\n",
       "employment_occupation           object\n",
       "dtype: object"
      ]
     },
     "execution_count": 102,
     "metadata": {},
     "output_type": "execute_result"
    }
   ],
   "source": [
    "train_features.dtypes"
   ]
  },
  {
   "cell_type": "code",
   "execution_count": 103,
   "id": "cb3c385d-ea6e-43dc-b7e4-bf6f8cc85e50",
   "metadata": {},
   "outputs": [],
   "source": [
    "numeric_cols = [col for col, value in train_features.dtypes.items() if value != 'object']\n",
    "non_numeric_cols = [col for col, value in train_features.dtypes.items() if value == 'object']"
   ]
  },
  {
   "cell_type": "code",
   "execution_count": 104,
   "id": "a25599d7-37a4-4baf-848f-9c82e283a1cf",
   "metadata": {},
   "outputs": [
    {
     "data": {
      "text/plain": [
       "Index(['respondent_id', 'h1n1_concern', 'h1n1_knowledge',\n",
       "       'behavioral_antiviral_meds', 'behavioral_avoidance',\n",
       "       'behavioral_face_mask', 'behavioral_wash_hands',\n",
       "       'behavioral_large_gatherings', 'behavioral_outside_home',\n",
       "       'behavioral_touch_face', 'doctor_recc_h1n1', 'doctor_recc_seasonal',\n",
       "       'chronic_med_condition', 'child_under_6_months', 'health_worker',\n",
       "       'health_insurance', 'opinion_h1n1_vacc_effective', 'opinion_h1n1_risk',\n",
       "       'opinion_h1n1_sick_from_vacc', 'opinion_seas_vacc_effective',\n",
       "       'opinion_seas_risk', 'opinion_seas_sick_from_vacc', 'age_group',\n",
       "       'education', 'race', 'sex', 'income_poverty', 'marital_status',\n",
       "       'rent_or_own', 'employment_status', 'hhs_geo_region', 'census_msa',\n",
       "       'household_adults', 'household_children', 'employment_industry',\n",
       "       'employment_occupation'],\n",
       "      dtype='object')"
      ]
     },
     "execution_count": 104,
     "metadata": {},
     "output_type": "execute_result"
    }
   ],
   "source": [
    "train_features.columns"
   ]
  },
  {
   "cell_type": "code",
   "execution_count": 105,
   "id": "b74623be-f7f4-4859-bf4d-a76a1f3dd5f0",
   "metadata": {},
   "outputs": [],
   "source": [
    "def apply_mapping(df, cols):\n",
    "    dict_mapping = {\n",
    "        \"income_poverty\" : {\n",
    "            'Below Poverty' : 0,\n",
    "            '> $75,000' : 1,\n",
    "            '<= $75,000, Above Poverty' : 2\n",
    "        },\n",
    "        \"marital_status\" : {\n",
    "            'Married' : 1,\n",
    "            'Not Married' : 0\n",
    "        },\n",
    "        \"rent_or_own\" : {\n",
    "            \"Own\" : 1,\n",
    "            \"Rent\" : 0\n",
    "        },\n",
    "        \"education\" : {\n",
    "            '< 12 Years':1,\n",
    "            '12 Years':2,\n",
    "            'Some College':3,\n",
    "            'College Graduate':4\n",
    "        },\n",
    "        \"employment_status\" : {\n",
    "            'Unemployed':1, \n",
    "            'Not in Labor Force':2, \n",
    "            'Employed':3\n",
    "        },\n",
    "    }\n",
    "    for col in cols:\n",
    "        mapping_values = dict_mapping[col]\n",
    "        df[col] = df[col].map(mapping_values)\n",
    "    return df\n"
   ]
  },
  {
   "cell_type": "code",
   "execution_count": 106,
   "id": "28f4045a-79cb-4ee3-9b17-de8b2f6d86fe",
   "metadata": {},
   "outputs": [],
   "source": [
    "# age_group, education, race gets non ordinal encoding using pd.get_dummies\n",
    "# train_features = pd.get_dummies(train_features, columns=['age_group', 'education', 'race', 'employment_status'], drop_first=True)\n",
    "train_features = apply_mapping(train_features, ['income_poverty', 'marital_status', 'rent_or_own', 'employment_status', 'education'])"
   ]
  },
  {
   "cell_type": "code",
   "execution_count": 107,
   "id": "55a26a87-8b78-40fe-b79e-e32046af2abe",
   "metadata": {},
   "outputs": [
    {
     "data": {
      "text/html": [
       "<div>\n",
       "<style scoped>\n",
       "    .dataframe tbody tr th:only-of-type {\n",
       "        vertical-align: middle;\n",
       "    }\n",
       "\n",
       "    .dataframe tbody tr th {\n",
       "        vertical-align: top;\n",
       "    }\n",
       "\n",
       "    .dataframe thead th {\n",
       "        text-align: right;\n",
       "    }\n",
       "</style>\n",
       "<table border=\"1\" class=\"dataframe\">\n",
       "  <thead>\n",
       "    <tr style=\"text-align: right;\">\n",
       "      <th></th>\n",
       "      <th>income_poverty</th>\n",
       "      <th>marital_status</th>\n",
       "      <th>rent_or_own</th>\n",
       "      <th>education</th>\n",
       "      <th>employment_status</th>\n",
       "    </tr>\n",
       "  </thead>\n",
       "  <tbody>\n",
       "    <tr>\n",
       "      <th>0</th>\n",
       "      <td>0.0</td>\n",
       "      <td>0.0</td>\n",
       "      <td>1.0</td>\n",
       "      <td>1.0</td>\n",
       "      <td>2.0</td>\n",
       "    </tr>\n",
       "    <tr>\n",
       "      <th>1</th>\n",
       "      <td>0.0</td>\n",
       "      <td>0.0</td>\n",
       "      <td>0.0</td>\n",
       "      <td>2.0</td>\n",
       "      <td>3.0</td>\n",
       "    </tr>\n",
       "    <tr>\n",
       "      <th>2</th>\n",
       "      <td>2.0</td>\n",
       "      <td>0.0</td>\n",
       "      <td>1.0</td>\n",
       "      <td>4.0</td>\n",
       "      <td>3.0</td>\n",
       "    </tr>\n",
       "    <tr>\n",
       "      <th>3</th>\n",
       "      <td>0.0</td>\n",
       "      <td>0.0</td>\n",
       "      <td>0.0</td>\n",
       "      <td>2.0</td>\n",
       "      <td>2.0</td>\n",
       "    </tr>\n",
       "    <tr>\n",
       "      <th>4</th>\n",
       "      <td>2.0</td>\n",
       "      <td>1.0</td>\n",
       "      <td>1.0</td>\n",
       "      <td>3.0</td>\n",
       "      <td>3.0</td>\n",
       "    </tr>\n",
       "    <tr>\n",
       "      <th>...</th>\n",
       "      <td>...</td>\n",
       "      <td>...</td>\n",
       "      <td>...</td>\n",
       "      <td>...</td>\n",
       "      <td>...</td>\n",
       "    </tr>\n",
       "    <tr>\n",
       "      <th>26702</th>\n",
       "      <td>2.0</td>\n",
       "      <td>0.0</td>\n",
       "      <td>1.0</td>\n",
       "      <td>3.0</td>\n",
       "      <td>2.0</td>\n",
       "    </tr>\n",
       "    <tr>\n",
       "      <th>26703</th>\n",
       "      <td>2.0</td>\n",
       "      <td>0.0</td>\n",
       "      <td>0.0</td>\n",
       "      <td>4.0</td>\n",
       "      <td>3.0</td>\n",
       "    </tr>\n",
       "    <tr>\n",
       "      <th>26704</th>\n",
       "      <td>NaN</td>\n",
       "      <td>0.0</td>\n",
       "      <td>1.0</td>\n",
       "      <td>3.0</td>\n",
       "      <td>NaN</td>\n",
       "    </tr>\n",
       "    <tr>\n",
       "      <th>26705</th>\n",
       "      <td>2.0</td>\n",
       "      <td>1.0</td>\n",
       "      <td>0.0</td>\n",
       "      <td>3.0</td>\n",
       "      <td>3.0</td>\n",
       "    </tr>\n",
       "    <tr>\n",
       "      <th>26706</th>\n",
       "      <td>2.0</td>\n",
       "      <td>1.0</td>\n",
       "      <td>1.0</td>\n",
       "      <td>3.0</td>\n",
       "      <td>2.0</td>\n",
       "    </tr>\n",
       "  </tbody>\n",
       "</table>\n",
       "<p>26707 rows × 5 columns</p>\n",
       "</div>"
      ],
      "text/plain": [
       "       income_poverty  marital_status  rent_or_own  education  \\\n",
       "0                 0.0             0.0          1.0        1.0   \n",
       "1                 0.0             0.0          0.0        2.0   \n",
       "2                 2.0             0.0          1.0        4.0   \n",
       "3                 0.0             0.0          0.0        2.0   \n",
       "4                 2.0             1.0          1.0        3.0   \n",
       "...               ...             ...          ...        ...   \n",
       "26702             2.0             0.0          1.0        3.0   \n",
       "26703             2.0             0.0          0.0        4.0   \n",
       "26704             NaN             0.0          1.0        3.0   \n",
       "26705             2.0             1.0          0.0        3.0   \n",
       "26706             2.0             1.0          1.0        3.0   \n",
       "\n",
       "       employment_status  \n",
       "0                    2.0  \n",
       "1                    3.0  \n",
       "2                    3.0  \n",
       "3                    2.0  \n",
       "4                    3.0  \n",
       "...                  ...  \n",
       "26702                2.0  \n",
       "26703                3.0  \n",
       "26704                NaN  \n",
       "26705                3.0  \n",
       "26706                2.0  \n",
       "\n",
       "[26707 rows x 5 columns]"
      ]
     },
     "execution_count": 107,
     "metadata": {},
     "output_type": "execute_result"
    }
   ],
   "source": [
    "train_features[['income_poverty', 'marital_status', 'rent_or_own', 'education', 'employment_status']]"
   ]
  },
  {
   "cell_type": "code",
   "execution_count": 108,
   "id": "c4ca1973-df10-4f18-9b44-0055be584b63",
   "metadata": {},
   "outputs": [
    {
     "data": {
      "text/plain": [
       "respondent_id                    int64\n",
       "h1n1_concern                   float64\n",
       "h1n1_knowledge                 float64\n",
       "behavioral_antiviral_meds      float64\n",
       "behavioral_avoidance           float64\n",
       "behavioral_face_mask           float64\n",
       "behavioral_wash_hands          float64\n",
       "behavioral_large_gatherings    float64\n",
       "behavioral_outside_home        float64\n",
       "behavioral_touch_face          float64\n",
       "doctor_recc_h1n1               float64\n",
       "doctor_recc_seasonal           float64\n",
       "chronic_med_condition          float64\n",
       "child_under_6_months           float64\n",
       "health_worker                  float64\n",
       "health_insurance               float64\n",
       "opinion_h1n1_vacc_effective    float64\n",
       "opinion_h1n1_risk              float64\n",
       "opinion_h1n1_sick_from_vacc    float64\n",
       "opinion_seas_vacc_effective    float64\n",
       "opinion_seas_risk              float64\n",
       "opinion_seas_sick_from_vacc    float64\n",
       "age_group                       object\n",
       "education                      float64\n",
       "race                            object\n",
       "sex                             object\n",
       "income_poverty                 float64\n",
       "marital_status                 float64\n",
       "rent_or_own                    float64\n",
       "employment_status              float64\n",
       "hhs_geo_region                  object\n",
       "census_msa                      object\n",
       "household_adults               float64\n",
       "household_children             float64\n",
       "employment_industry             object\n",
       "employment_occupation           object\n",
       "dtype: object"
      ]
     },
     "execution_count": 108,
     "metadata": {},
     "output_type": "execute_result"
    }
   ],
   "source": [
    "train_features.dtypes"
   ]
  },
  {
   "cell_type": "code",
   "execution_count": 142,
   "id": "7181ff1c-1ce5-48eb-bd65-04ec3b346d5d",
   "metadata": {},
   "outputs": [],
   "source": [
    "freq_cols = ['employment_status', 'health_insurance', 'income_poverty', 'doctor_recc_h1n1', 'doctor_recc_seasonal', 'rent_or_own', 'marital_status', 'education', 'chronic_med_condition', 'child_under_6_months', 'health_worker', 'opinion_seas_sick_from_vacc', 'opinion_seas_risk', 'opinion_seas_vacc_effective', 'opinion_h1n1_sick_from_vacc', 'opinion_h1n1_vacc_effective', 'opinion_h1n1_risk', 'household_adults', 'household_children', 'behavioral_avoidance', 'behavioral_touch_face', 'h1n1_concern', 'h1n1_knowledge', 'behavioral_large_gatherings', 'behavioral_outside_home', 'behavioral_antiviral_meds', 'behavioral_wash_hands', 'behavioral_face_mask']\n",
    "for col in freq_cols: #only other thing would be to try and do median for some columns. not sure if iy would make a diff.\n",
    "    freq_imp = SimpleImputer(missing_values=np.nan, strategy='most_frequent') #this is a hyperparam we can tune \n",
    "    temp = freq_imp.fit_transform(train_features[[col]]).ravel()\n",
    "    train_features[col] = temp"
   ]
  },
  {
   "cell_type": "code",
   "execution_count": 143,
   "id": "a51efd05-78fa-4f5f-a18f-952ca40c893a",
   "metadata": {},
   "outputs": [
    {
     "data": {
      "text/html": [
       "<div>\n",
       "<style scoped>\n",
       "    .dataframe tbody tr th:only-of-type {\n",
       "        vertical-align: middle;\n",
       "    }\n",
       "\n",
       "    .dataframe tbody tr th {\n",
       "        vertical-align: top;\n",
       "    }\n",
       "\n",
       "    .dataframe thead th {\n",
       "        text-align: right;\n",
       "    }\n",
       "</style>\n",
       "<table border=\"1\" class=\"dataframe\">\n",
       "  <thead>\n",
       "    <tr style=\"text-align: right;\">\n",
       "      <th></th>\n",
       "      <th>age_group</th>\n",
       "      <th>sex</th>\n",
       "      <th>race</th>\n",
       "      <th>census_msa</th>\n",
       "      <th>hhs_geo_region</th>\n",
       "      <th>employment_industry</th>\n",
       "      <th>employment_occupation</th>\n",
       "      <th>respondent_id</th>\n",
       "      <th>h1n1_concern</th>\n",
       "      <th>h1n1_knowledge</th>\n",
       "      <th>...</th>\n",
       "      <th>opinion_seas_vacc_effective</th>\n",
       "      <th>opinion_seas_risk</th>\n",
       "      <th>opinion_seas_sick_from_vacc</th>\n",
       "      <th>education</th>\n",
       "      <th>income_poverty</th>\n",
       "      <th>marital_status</th>\n",
       "      <th>rent_or_own</th>\n",
       "      <th>employment_status</th>\n",
       "      <th>household_adults</th>\n",
       "      <th>household_children</th>\n",
       "    </tr>\n",
       "  </thead>\n",
       "  <tbody>\n",
       "    <tr>\n",
       "      <th>0</th>\n",
       "      <td>3</td>\n",
       "      <td>0</td>\n",
       "      <td>3</td>\n",
       "      <td>2</td>\n",
       "      <td>8</td>\n",
       "      <td>21</td>\n",
       "      <td>23</td>\n",
       "      <td>0</td>\n",
       "      <td>1.0</td>\n",
       "      <td>0.0</td>\n",
       "      <td>...</td>\n",
       "      <td>2.0</td>\n",
       "      <td>1.0</td>\n",
       "      <td>2.0</td>\n",
       "      <td>1.0</td>\n",
       "      <td>0.0</td>\n",
       "      <td>0.0</td>\n",
       "      <td>1.0</td>\n",
       "      <td>2.0</td>\n",
       "      <td>0.0</td>\n",
       "      <td>0.0</td>\n",
       "    </tr>\n",
       "    <tr>\n",
       "      <th>1</th>\n",
       "      <td>1</td>\n",
       "      <td>1</td>\n",
       "      <td>3</td>\n",
       "      <td>0</td>\n",
       "      <td>1</td>\n",
       "      <td>12</td>\n",
       "      <td>19</td>\n",
       "      <td>1</td>\n",
       "      <td>3.0</td>\n",
       "      <td>2.0</td>\n",
       "      <td>...</td>\n",
       "      <td>4.0</td>\n",
       "      <td>2.0</td>\n",
       "      <td>4.0</td>\n",
       "      <td>2.0</td>\n",
       "      <td>0.0</td>\n",
       "      <td>0.0</td>\n",
       "      <td>0.0</td>\n",
       "      <td>3.0</td>\n",
       "      <td>0.0</td>\n",
       "      <td>0.0</td>\n",
       "    </tr>\n",
       "    <tr>\n",
       "      <th>2</th>\n",
       "      <td>0</td>\n",
       "      <td>1</td>\n",
       "      <td>3</td>\n",
       "      <td>0</td>\n",
       "      <td>9</td>\n",
       "      <td>14</td>\n",
       "      <td>21</td>\n",
       "      <td>2</td>\n",
       "      <td>1.0</td>\n",
       "      <td>1.0</td>\n",
       "      <td>...</td>\n",
       "      <td>4.0</td>\n",
       "      <td>1.0</td>\n",
       "      <td>2.0</td>\n",
       "      <td>4.0</td>\n",
       "      <td>2.0</td>\n",
       "      <td>0.0</td>\n",
       "      <td>1.0</td>\n",
       "      <td>3.0</td>\n",
       "      <td>2.0</td>\n",
       "      <td>0.0</td>\n",
       "    </tr>\n",
       "    <tr>\n",
       "      <th>3</th>\n",
       "      <td>4</td>\n",
       "      <td>0</td>\n",
       "      <td>3</td>\n",
       "      <td>1</td>\n",
       "      <td>5</td>\n",
       "      <td>21</td>\n",
       "      <td>23</td>\n",
       "      <td>3</td>\n",
       "      <td>1.0</td>\n",
       "      <td>1.0</td>\n",
       "      <td>...</td>\n",
       "      <td>5.0</td>\n",
       "      <td>4.0</td>\n",
       "      <td>1.0</td>\n",
       "      <td>2.0</td>\n",
       "      <td>0.0</td>\n",
       "      <td>0.0</td>\n",
       "      <td>0.0</td>\n",
       "      <td>2.0</td>\n",
       "      <td>0.0</td>\n",
       "      <td>0.0</td>\n",
       "    </tr>\n",
       "    <tr>\n",
       "      <th>4</th>\n",
       "      <td>2</td>\n",
       "      <td>0</td>\n",
       "      <td>3</td>\n",
       "      <td>0</td>\n",
       "      <td>9</td>\n",
       "      <td>18</td>\n",
       "      <td>5</td>\n",
       "      <td>4</td>\n",
       "      <td>2.0</td>\n",
       "      <td>1.0</td>\n",
       "      <td>...</td>\n",
       "      <td>3.0</td>\n",
       "      <td>1.0</td>\n",
       "      <td>4.0</td>\n",
       "      <td>3.0</td>\n",
       "      <td>2.0</td>\n",
       "      <td>1.0</td>\n",
       "      <td>1.0</td>\n",
       "      <td>3.0</td>\n",
       "      <td>1.0</td>\n",
       "      <td>0.0</td>\n",
       "    </tr>\n",
       "  </tbody>\n",
       "</table>\n",
       "<p>5 rows × 36 columns</p>\n",
       "</div>"
      ],
      "text/plain": [
       "   age_group  sex  race  census_msa  hhs_geo_region  employment_industry  \\\n",
       "0          3    0     3           2               8                   21   \n",
       "1          1    1     3           0               1                   12   \n",
       "2          0    1     3           0               9                   14   \n",
       "3          4    0     3           1               5                   21   \n",
       "4          2    0     3           0               9                   18   \n",
       "\n",
       "   employment_occupation  respondent_id  h1n1_concern  h1n1_knowledge  ...  \\\n",
       "0                     23              0           1.0             0.0  ...   \n",
       "1                     19              1           3.0             2.0  ...   \n",
       "2                     21              2           1.0             1.0  ...   \n",
       "3                     23              3           1.0             1.0  ...   \n",
       "4                      5              4           2.0             1.0  ...   \n",
       "\n",
       "   opinion_seas_vacc_effective  opinion_seas_risk  \\\n",
       "0                          2.0                1.0   \n",
       "1                          4.0                2.0   \n",
       "2                          4.0                1.0   \n",
       "3                          5.0                4.0   \n",
       "4                          3.0                1.0   \n",
       "\n",
       "   opinion_seas_sick_from_vacc  education  income_poverty  marital_status  \\\n",
       "0                          2.0        1.0             0.0             0.0   \n",
       "1                          4.0        2.0             0.0             0.0   \n",
       "2                          2.0        4.0             2.0             0.0   \n",
       "3                          1.0        2.0             0.0             0.0   \n",
       "4                          4.0        3.0             2.0             1.0   \n",
       "\n",
       "   rent_or_own  employment_status  household_adults  household_children  \n",
       "0          1.0                2.0               0.0                 0.0  \n",
       "1          0.0                3.0               0.0                 0.0  \n",
       "2          1.0                3.0               2.0                 0.0  \n",
       "3          0.0                2.0               0.0                 0.0  \n",
       "4          1.0                3.0               1.0                 0.0  \n",
       "\n",
       "[5 rows x 36 columns]"
      ]
     },
     "execution_count": 143,
     "metadata": {},
     "output_type": "execute_result"
    }
   ],
   "source": [
    "# label encoding age_group, sex, race, census_msa, \n",
    "temp_df = train_features[['age_group', 'sex', 'race', 'census_msa', 'hhs_geo_region', 'employment_industry', 'employment_occupation']].copy()\n",
    "for col in temp_df.columns.tolist():\n",
    "    label_enc = LabelEncoder()\n",
    "    temp_df[col] = label_enc.fit_transform(temp_df[col])\n",
    "\n",
    "train_features.drop(columns=['age_group', 'race', 'sex', 'census_msa', 'hhs_geo_region', 'employment_industry', 'employment_occupation'], inplace=True)\n",
    "train_features = pd.concat([temp_df, train_features], axis=1)\n",
    "\n",
    "train_features.head()"
   ]
  },
  {
   "cell_type": "code",
   "execution_count": 110,
   "id": "6570717f-71c1-4f19-8aa8-98ad9dfe3646",
   "metadata": {},
   "outputs": [],
   "source": [
    "# train_features['employment_occupation'].fillna('other', inplace=True)\n",
    "# train_features['employment_industry'].fillna('other', inplace=True)"
   ]
  },
  {
   "cell_type": "code",
   "execution_count": 144,
   "id": "7228383b-638a-4a9e-8971-feb7ac789c3c",
   "metadata": {},
   "outputs": [
    {
     "data": {
      "text/plain": [
       "age_group                      0\n",
       "sex                            0\n",
       "child_under_6_months           0\n",
       "health_worker                  0\n",
       "health_insurance               0\n",
       "opinion_h1n1_vacc_effective    0\n",
       "opinion_h1n1_risk              0\n",
       "opinion_h1n1_sick_from_vacc    0\n",
       "opinion_seas_vacc_effective    0\n",
       "opinion_seas_risk              0\n",
       "opinion_seas_sick_from_vacc    0\n",
       "education                      0\n",
       "income_poverty                 0\n",
       "marital_status                 0\n",
       "rent_or_own                    0\n",
       "employment_status              0\n",
       "household_adults               0\n",
       "chronic_med_condition          0\n",
       "doctor_recc_seasonal           0\n",
       "doctor_recc_h1n1               0\n",
       "h1n1_concern                   0\n",
       "race                           0\n",
       "census_msa                     0\n",
       "hhs_geo_region                 0\n",
       "employment_industry            0\n",
       "employment_occupation          0\n",
       "respondent_id                  0\n",
       "h1n1_knowledge                 0\n",
       "behavioral_touch_face          0\n",
       "behavioral_antiviral_meds      0\n",
       "behavioral_avoidance           0\n",
       "behavioral_face_mask           0\n",
       "behavioral_wash_hands          0\n",
       "behavioral_large_gatherings    0\n",
       "behavioral_outside_home        0\n",
       "household_children             0\n",
       "dtype: int64"
      ]
     },
     "execution_count": 144,
     "metadata": {},
     "output_type": "execute_result"
    }
   ],
   "source": [
    "train_features.isnull().sum().sort_values(ascending=False)"
   ]
  },
  {
   "cell_type": "code",
   "execution_count": null,
   "id": "92f95029-4e6b-4aaf-9d3e-69f7aeee6b3b",
   "metadata": {},
   "outputs": [],
   "source": []
  },
  {
   "cell_type": "code",
   "execution_count": 145,
   "id": "188f2eb0-3cc4-4e18-9389-d2b79f6deba6",
   "metadata": {},
   "outputs": [],
   "source": [
    "train_targets.set_index('respondent_id')\n",
    "train_features.set_index('respondent_id')\n",
    "df_train = pd.merge(train_features, train_targets, on='respondent_id', how='inner')"
   ]
  },
  {
   "cell_type": "code",
   "execution_count": 146,
   "id": "7cf5d390-db0d-4918-b870-5279f53a4ee6",
   "metadata": {},
   "outputs": [
    {
     "data": {
      "text/plain": [
       "Index(['age_group', 'sex', 'race', 'census_msa', 'hhs_geo_region',\n",
       "       'employment_industry', 'employment_occupation', 'respondent_id',\n",
       "       'h1n1_concern', 'h1n1_knowledge', 'behavioral_antiviral_meds',\n",
       "       'behavioral_avoidance', 'behavioral_face_mask', 'behavioral_wash_hands',\n",
       "       'behavioral_large_gatherings', 'behavioral_outside_home',\n",
       "       'behavioral_touch_face', 'doctor_recc_h1n1', 'doctor_recc_seasonal',\n",
       "       'chronic_med_condition', 'child_under_6_months', 'health_worker',\n",
       "       'health_insurance', 'opinion_h1n1_vacc_effective', 'opinion_h1n1_risk',\n",
       "       'opinion_h1n1_sick_from_vacc', 'opinion_seas_vacc_effective',\n",
       "       'opinion_seas_risk', 'opinion_seas_sick_from_vacc', 'education',\n",
       "       'income_poverty', 'marital_status', 'rent_or_own', 'employment_status',\n",
       "       'household_adults', 'household_children', 'h1n1_vaccine',\n",
       "       'seasonal_vaccine'],\n",
       "      dtype='object')"
      ]
     },
     "execution_count": 146,
     "metadata": {},
     "output_type": "execute_result"
    }
   ],
   "source": [
    "df_train.columns"
   ]
  },
  {
   "cell_type": "code",
   "execution_count": 147,
   "id": "85bdc2eb-a689-4a37-873d-1015c15e42fe",
   "metadata": {},
   "outputs": [],
   "source": [
    "X, y = df_train.loc[:, :'household_children'].copy(), df_train.loc[:, 'h1n1_vaccine':].copy()"
   ]
  },
  {
   "cell_type": "code",
   "execution_count": 148,
   "id": "24676cd8-fd42-465c-8dd9-9b9faa367ea9",
   "metadata": {},
   "outputs": [],
   "source": [
    "X_train, X_val, y_train, y_val = train_test_split(X, y, random_state=42, test_size=0.33, shuffle=True, stratify=y)"
   ]
  },
  {
   "cell_type": "code",
   "execution_count": 149,
   "id": "b45566a6-af44-488d-956d-b13a759440ad",
   "metadata": {},
   "outputs": [],
   "source": [
    "scaler = MinMaxScaler() #scales between 0 and 1, so it is suitable for this data. SS makes values negative.\n",
    "X_train = scaler.fit_transform(X_train)\n",
    "X_val = scaler.transform(X_val)"
   ]
  },
  {
   "cell_type": "code",
   "execution_count": 150,
   "id": "52a6fc22-f7c9-4148-80da-713001faca33",
   "metadata": {},
   "outputs": [],
   "source": [
    "def plot_roc(y_true, y_score, label_name, ax, color=False):\n",
    "    fpr, tpr, thresholds = metrics.roc_curve(y_true, y_score)\n",
    "    if color:\n",
    "        ax.set_facecolor('lightblue')\n",
    "    ax.plot(fpr, tpr)\n",
    "    ax.plot([0, 1], [0, 1], color='grey', linestyle='--')\n",
    "    ax.set_ylabel('TPR')\n",
    "    ax.set_xlabel('FPR')\n",
    "    ax.set_title(\n",
    "        f\"{label_name}: AUC = {metrics.roc_auc_score(y_true, y_score):.4f}\"\n",
    "    )"
   ]
  },
  {
   "cell_type": "code",
   "execution_count": 151,
   "id": "83e86a91-6db6-402d-8685-7fb9d3fcf413",
   "metadata": {},
   "outputs": [
    {
     "name": "stdout",
     "output_type": "stream",
     "text": [
      "Running Model: Logistic Regression\n",
      "Accuracy Score for Logistic Regression:  0.6638302700249603\n",
      "Hamming Loss for Logistic Regression:  0.19571136827773997\n",
      "\n",
      "Running Model: RandomForest Classifier\n",
      "Accuracy Score for RandomForest Classifier:  0.6766507828454731\n",
      "Hamming Loss for RandomForest Classifier:  0.1879963694122986\n",
      "\n",
      "Running Model: AdaBoost Classifier\n",
      "Accuracy Score for AdaBoost Classifier:  0.6683685046516905\n",
      "Hamming Loss for AdaBoost Classifier:  0.19236442024052644\n",
      "\n",
      "Running Model: ExtraTrees Classifier\n",
      "Accuracy Score for ExtraTrees Classifier:  0.6717721806217382\n",
      "Hamming Loss for ExtraTrees Classifier:  0.19179714091218517\n",
      "\n",
      "Running Model: Support Vector Machine\n",
      "Accuracy Score for Support Vector Machine:  0.6660993873383254\n",
      "Hamming Loss for Support Vector Machine:  0.19610846380757885\n",
      "\n"
     ]
    },
    {
     "data": {
      "image/png": "[encoded data removed]",
      "text/plain": [
       "<Figure size 700x350 with 2 Axes>"
      ]
     },
     "metadata": {},
     "output_type": "display_data"
    },
    {
     "data": {
      "image/png": "[encoded data removed]",
      "text/plain": [
       "<Figure size 700x350 with 2 Axes>"
      ]
     },
     "metadata": {},
     "output_type": "display_data"
    },
    {
     "data": {
      "image/png": "[encoded data removed]",
      "text/plain": [
       "<Figure size 700x350 with 2 Axes>"
      ]
     },
     "metadata": {},
     "output_type": "display_data"
    },
    {
     "data": {
      "image/png": "[encoded data removed]",
      "text/plain": [
       "<Figure size 700x350 with 2 Axes>"
      ]
     },
     "metadata": {},
     "output_type": "display_data"
    },
    {
     "data": {
      "image/png": "[encoded data removed]",
      "text/plain": [
       "<Figure size 700x350 with 2 Axes>"
      ]
     },
     "metadata": {},
     "output_type": "display_data"
    }
   ],
   "source": [
    "models = [('Logistic Regression', LogisticRegression(penalty = 'l2', C=0.1, solver='liblinear')),\n",
    "          ('RandomForest Classifier', RandomForestClassifier(n_estimators=1000, criterion='entropy', n_jobs=-1)), ('AdaBoost Classifier', AdaBoostClassifier(n_estimators=1000, learning_rate=1.0)),\n",
    "          ('ExtraTrees Classifier', ExtraTreesClassifier(n_estimators=1000, criterion='entropy', n_jobs=-1)), ('Support Vector Machine', SVC(kernel='linear', C=0.1, probability=True))]\n",
    "\n",
    "for name, model in models:\n",
    "    print(f\"Running Model: {name}\")\n",
    "    # preprocessing_steps = Pipeline([\n",
    "    #     ('minmax_scaler', MinMaxScaler()),\n",
    "    #     ('simple_imputer', SimpleImputer(strategy='median')),\n",
    "    #     ])\n",
    "    \n",
    "    # preprocessor = ColumnTransformer(\n",
    "    #     transformers = [\n",
    "    #         (\"numeric\", preprocessing_steps, numeric_cols)\n",
    "    #     ],\n",
    "    #     remainder = \"drop\"\n",
    "    # )\n",
    "    \n",
    "    clf = MultiOutputClassifier(estimator=model)\n",
    "    # clf = Pipeline([\n",
    "    #     (\"preprocessor\", preprocessor),\n",
    "    #     (\"estimators\", clf),\n",
    "    # ])\n",
    "    clf.fit(X_train, y_train)\n",
    "    preds = clf.predict(X_val)\n",
    "    y_preds = clf.predict_proba(X_val)\n",
    "    y_preds_both = pd.DataFrame({\"h1n1_vaccine\":y_preds[0][:, 1], \"seasonal_vaccine\":y_preds[1][:, 1]}, index=y_val.index)\n",
    "\n",
    "    fig, ax = plt.subplots(1, 2, figsize=(7, 3.5))\n",
    "    plt.suptitle(f\"ROC_AUC Curve {name}\")\n",
    "\n",
    "    plot_roc(y_val['h1n1_vaccine'], y_preds_both['h1n1_vaccine'], 'h1n1_vaccine',ax=ax[0])\n",
    "    plot_roc(y_val['seasonal_vaccine'], y_preds_both['seasonal_vaccine'], 'seasonal_vaccine',ax=ax[1])\n",
    "    fig.tight_layout()\n",
    "    \n",
    "    print(f\"Accuracy Score for {name}: \", metrics.accuracy_score(y_val, preds))\n",
    "    print(f\"Hamming Loss for {name}: \", metrics.hamming_loss(y_val, preds))\n",
    "    print() "
   ]
  },
  {
   "cell_type": "code",
   "execution_count": 157,
   "id": "15ab4a2f-107f-4cfd-aea2-a355219d919f",
   "metadata": {},
   "outputs": [],
   "source": [
    "# can try nn with tensorflow and xgboost but for now choosing random forest classifier as model\n",
    "model = RandomForestClassifier(n_estimators=1000, criterion='entropy', n_jobs=-1)\n",
    "clf = MultiOutputClassifier(estimator=model)\n",
    "clf.fit(X_train, y_train)\n",
    "    \n",
    "preds = clf.predict(X_val)\n",
    "y_preds = clf.predict_proba(X_val)\n",
    "y_preds_both = pd.DataFrame({\"h1n1_vaccine\":y_preds[0][:, 1], \"seasonal_vaccine\":y_preds[1][:, 1]}, index=y_val.index)"
   ]
  },
  {
   "cell_type": "code",
   "execution_count": 155,
   "id": "03f8e3b3-fc31-477c-8204-a719f4900b9f",
   "metadata": {},
   "outputs": [],
   "source": [
    "# model = AdaBoostClassifier(n_estimators=1000, learning_rate=1.0)\n",
    "# clf = MultiOutputClassifier(estimator=model)\n",
    "# clf.fit(X_train, y_train)\n",
    "    \n",
    "# preds = clf.predict(X_val)\n",
    "# y_preds = clf.predict_proba(X_val)\n",
    "# y_preds_both = pd.DataFrame({\"h1n1_vaccine\":y_preds[0][:, 1], \"seasonal_vaccine\":y_preds[1][:, 1]}, index=y_val.index)"
   ]
  },
  {
   "cell_type": "code",
   "execution_count": 156,
   "id": "86ffa72e-07d8-412d-ba5a-72b9d4509adf",
   "metadata": {},
   "outputs": [
    {
     "data": {
      "text/plain": [
       "0.8426855688214328"
      ]
     },
     "execution_count": 156,
     "metadata": {},
     "output_type": "execute_result"
    }
   ],
   "source": [
    "# metrics.roc_auc_score(y_val, y_preds_both)"
   ]
  },
  {
   "cell_type": "code",
   "execution_count": 158,
   "id": "3dbf9d78-8500-4ba9-91eb-c8cb53f7ec51",
   "metadata": {},
   "outputs": [
    {
     "data": {
      "text/plain": [
       "0.845573450841089"
      ]
     },
     "execution_count": 158,
     "metadata": {},
     "output_type": "execute_result"
    }
   ],
   "source": [
    "metrics.roc_auc_score(y_val, y_preds_both) # for randomforest"
   ]
  },
  {
   "cell_type": "code",
   "execution_count": 167,
   "id": "c55930bf-52ab-40a4-9982-23e50b6af00c",
   "metadata": {},
   "outputs": [],
   "source": [
    "def create_test_transform(df):\n",
    "    df = apply_mapping(df, ['income_poverty', 'marital_status', 'rent_or_own', 'employment_status', 'education'])\n",
    "    for col in freq_cols: #only other thing would be to try and do median for some columns. not sure if iy would make a diff.\n",
    "        freq_imp = SimpleImputer(missing_values=np.nan, strategy='most_frequent') #this is a hyperparam we can tune \n",
    "        temp = freq_imp.fit_transform(df[[col]]).ravel()\n",
    "        df[col] = temp\n",
    "    \n",
    "    temp_df = df[['age_group', 'sex', 'race', 'census_msa', 'hhs_geo_region', 'employment_industry', 'employment_occupation']].copy()\n",
    "    \n",
    "    for col in temp_df.columns.tolist():\n",
    "        label_enc = LabelEncoder()\n",
    "        temp_df[col] = label_enc.fit_transform(temp_df[col])\n",
    "\n",
    "    df.drop(columns=['age_group', 'race', 'sex', 'census_msa', 'hhs_geo_region', 'employment_industry', 'employment_occupation'], inplace=True)\n",
    "    df = pd.concat([temp_df, df], axis=1)\n",
    "    # df = scaler.fit_transform(df)\n",
    "    return df\n"
   ]
  },
  {
   "cell_type": "code",
   "execution_count": 186,
   "id": "35d1ed55-0fc1-4af8-b204-409322d23759",
   "metadata": {},
   "outputs": [],
   "source": [
    "test_data = create_test_transform(test_data)"
   ]
  },
  {
   "cell_type": "code",
   "execution_count": 187,
   "id": "dcc47548-970e-49fa-99ba-108ddfe26141",
   "metadata": {},
   "outputs": [
    {
     "data": {
      "text/plain": [
       "age_group                        int64\n",
       "sex                              int64\n",
       "race                             int64\n",
       "census_msa                       int64\n",
       "hhs_geo_region                   int64\n",
       "employment_industry              int64\n",
       "employment_occupation            int64\n",
       "respondent_id                    int64\n",
       "h1n1_concern                   float64\n",
       "h1n1_knowledge                 float64\n",
       "behavioral_antiviral_meds      float64\n",
       "behavioral_avoidance           float64\n",
       "behavioral_face_mask           float64\n",
       "behavioral_wash_hands          float64\n",
       "behavioral_large_gatherings    float64\n",
       "behavioral_outside_home        float64\n",
       "behavioral_touch_face          float64\n",
       "doctor_recc_h1n1               float64\n",
       "doctor_recc_seasonal           float64\n",
       "chronic_med_condition          float64\n",
       "child_under_6_months           float64\n",
       "health_worker                  float64\n",
       "health_insurance               float64\n",
       "opinion_h1n1_vacc_effective    float64\n",
       "opinion_h1n1_risk              float64\n",
       "opinion_h1n1_sick_from_vacc    float64\n",
       "opinion_seas_vacc_effective    float64\n",
       "opinion_seas_risk              float64\n",
       "opinion_seas_sick_from_vacc    float64\n",
       "education                      float64\n",
       "income_poverty                 float64\n",
       "marital_status                 float64\n",
       "rent_or_own                    float64\n",
       "employment_status              float64\n",
       "household_adults               float64\n",
       "household_children             float64\n",
       "dtype: object"
      ]
     },
     "execution_count": 187,
     "metadata": {},
     "output_type": "execute_result"
    }
   ],
   "source": [
    "test_data.dtypes\n"
   ]
  },
  {
   "cell_type": "code",
   "execution_count": 180,
   "id": "8f91e8f9-d961-4d0f-8a5e-af49b49c58a0",
   "metadata": {},
   "outputs": [
    {
     "data": {
      "text/plain": [
       "(26708, 36)"
      ]
     },
     "execution_count": 180,
     "metadata": {},
     "output_type": "execute_result"
    }
   ],
   "source": [
    "test_data.shape"
   ]
  },
  {
   "cell_type": "code",
   "execution_count": 171,
   "id": "ca1ce32e-3617-4cec-bd08-c01bd9cf2bb1",
   "metadata": {},
   "outputs": [
    {
     "data": {
      "text/plain": [
       "[array([[0.812, 0.188],\n",
       "        [0.889, 0.111],\n",
       "        [0.528, 0.472],\n",
       "        ...,\n",
       "        [0.83 , 0.17 ],\n",
       "        [0.882, 0.118],\n",
       "        [0.553, 0.447]]),\n",
       " array([[0.68 , 0.32 ],\n",
       "        [0.915, 0.085],\n",
       "        [0.2  , 0.8  ],\n",
       "        ...,\n",
       "        [0.69 , 0.31 ],\n",
       "        [0.645, 0.355],\n",
       "        [0.399, 0.601]])]"
      ]
     },
     "execution_count": 171,
     "metadata": {},
     "output_type": "execute_result"
    }
   ],
   "source": [
    "test_probs = clf.predict_proba(test_data)\n",
    "test_probs"
   ]
  },
  {
   "cell_type": "code",
   "execution_count": 175,
   "id": "4fd12ad1-4ef2-4f5d-85b7-ee109b44b98f",
   "metadata": {},
   "outputs": [
    {
     "data": {
      "text/plain": [
       "((26708, 2), (26708, 2))"
      ]
     },
     "execution_count": 175,
     "metadata": {},
     "output_type": "execute_result"
    }
   ],
   "source": [
    "test_probs[0].shape, test_probs[1].shape"
   ]
  },
  {
   "cell_type": "code",
   "execution_count": 177,
   "id": "89ce46dd-1217-4bd4-ad21-4fb374d9fed8",
   "metadata": {},
   "outputs": [
    {
     "data": {
      "text/html": [
       "<div>\n",
       "<style scoped>\n",
       "    .dataframe tbody tr th:only-of-type {\n",
       "        vertical-align: middle;\n",
       "    }\n",
       "\n",
       "    .dataframe tbody tr th {\n",
       "        vertical-align: top;\n",
       "    }\n",
       "\n",
       "    .dataframe thead th {\n",
       "        text-align: right;\n",
       "    }\n",
       "</style>\n",
       "<table border=\"1\" class=\"dataframe\">\n",
       "  <thead>\n",
       "    <tr style=\"text-align: right;\">\n",
       "      <th></th>\n",
       "      <th>h1n1_vaccine</th>\n",
       "      <th>seasonal_vaccine</th>\n",
       "    </tr>\n",
       "    <tr>\n",
       "      <th>respondent_id</th>\n",
       "      <th></th>\n",
       "      <th></th>\n",
       "    </tr>\n",
       "  </thead>\n",
       "  <tbody>\n",
       "    <tr>\n",
       "      <th>26707</th>\n",
       "      <td>0.5</td>\n",
       "      <td>0.7</td>\n",
       "    </tr>\n",
       "    <tr>\n",
       "      <th>26708</th>\n",
       "      <td>0.5</td>\n",
       "      <td>0.7</td>\n",
       "    </tr>\n",
       "    <tr>\n",
       "      <th>26709</th>\n",
       "      <td>0.5</td>\n",
       "      <td>0.7</td>\n",
       "    </tr>\n",
       "    <tr>\n",
       "      <th>26710</th>\n",
       "      <td>0.5</td>\n",
       "      <td>0.7</td>\n",
       "    </tr>\n",
       "    <tr>\n",
       "      <th>26711</th>\n",
       "      <td>0.5</td>\n",
       "      <td>0.7</td>\n",
       "    </tr>\n",
       "    <tr>\n",
       "      <th>...</th>\n",
       "      <td>...</td>\n",
       "      <td>...</td>\n",
       "    </tr>\n",
       "    <tr>\n",
       "      <th>53410</th>\n",
       "      <td>0.5</td>\n",
       "      <td>0.7</td>\n",
       "    </tr>\n",
       "    <tr>\n",
       "      <th>53411</th>\n",
       "      <td>0.5</td>\n",
       "      <td>0.7</td>\n",
       "    </tr>\n",
       "    <tr>\n",
       "      <th>53412</th>\n",
       "      <td>0.5</td>\n",
       "      <td>0.7</td>\n",
       "    </tr>\n",
       "    <tr>\n",
       "      <th>53413</th>\n",
       "      <td>0.5</td>\n",
       "      <td>0.7</td>\n",
       "    </tr>\n",
       "    <tr>\n",
       "      <th>53414</th>\n",
       "      <td>0.5</td>\n",
       "      <td>0.7</td>\n",
       "    </tr>\n",
       "  </tbody>\n",
       "</table>\n",
       "<p>26708 rows × 2 columns</p>\n",
       "</div>"
      ],
      "text/plain": [
       "               h1n1_vaccine  seasonal_vaccine\n",
       "respondent_id                                \n",
       "26707                   0.5               0.7\n",
       "26708                   0.5               0.7\n",
       "26709                   0.5               0.7\n",
       "26710                   0.5               0.7\n",
       "26711                   0.5               0.7\n",
       "...                     ...               ...\n",
       "53410                   0.5               0.7\n",
       "53411                   0.5               0.7\n",
       "53412                   0.5               0.7\n",
       "53413                   0.5               0.7\n",
       "53414                   0.5               0.7\n",
       "\n",
       "[26708 rows x 2 columns]"
      ]
     },
     "execution_count": 177,
     "metadata": {},
     "output_type": "execute_result"
    }
   ],
   "source": [
    "submission_form.set_index('respondent_id')"
   ]
  },
  {
   "cell_type": "code",
   "execution_count": 182,
   "id": "b3bf2850-fcb4-4647-8531-45a6c06a9ff7",
   "metadata": {},
   "outputs": [
    {
     "data": {
      "text/html": [
       "<div>\n",
       "<style scoped>\n",
       "    .dataframe tbody tr th:only-of-type {\n",
       "        vertical-align: middle;\n",
       "    }\n",
       "\n",
       "    .dataframe tbody tr th {\n",
       "        vertical-align: top;\n",
       "    }\n",
       "\n",
       "    .dataframe thead th {\n",
       "        text-align: right;\n",
       "    }\n",
       "</style>\n",
       "<table border=\"1\" class=\"dataframe\">\n",
       "  <thead>\n",
       "    <tr style=\"text-align: right;\">\n",
       "      <th></th>\n",
       "      <th>h1n1_vaccine</th>\n",
       "      <th>seasonal_vaccine</th>\n",
       "    </tr>\n",
       "  </thead>\n",
       "  <tbody>\n",
       "    <tr>\n",
       "      <th>0</th>\n",
       "      <td>0.188</td>\n",
       "      <td>0.320</td>\n",
       "    </tr>\n",
       "    <tr>\n",
       "      <th>1</th>\n",
       "      <td>0.111</td>\n",
       "      <td>0.085</td>\n",
       "    </tr>\n",
       "    <tr>\n",
       "      <th>2</th>\n",
       "      <td>0.472</td>\n",
       "      <td>0.800</td>\n",
       "    </tr>\n",
       "    <tr>\n",
       "      <th>3</th>\n",
       "      <td>0.628</td>\n",
       "      <td>0.881</td>\n",
       "    </tr>\n",
       "    <tr>\n",
       "      <th>4</th>\n",
       "      <td>0.315</td>\n",
       "      <td>0.495</td>\n",
       "    </tr>\n",
       "  </tbody>\n",
       "</table>\n",
       "</div>"
      ],
      "text/plain": [
       "   h1n1_vaccine  seasonal_vaccine\n",
       "0         0.188             0.320\n",
       "1         0.111             0.085\n",
       "2         0.472             0.800\n",
       "3         0.628             0.881\n",
       "4         0.315             0.495"
      ]
     },
     "execution_count": 182,
     "metadata": {},
     "output_type": "execute_result"
    }
   ],
   "source": [
    "test_preds_df = pd.DataFrame({\n",
    "    \"h1n1_vaccine\" : test_probs[0][:, 1],\n",
    "    \"seasonal_vaccine\" : test_probs[1][:, 1]\n",
    "},\n",
    "    index = test_data.index,\n",
    "                         )\n",
    "test_preds_df.head()"
   ]
  },
  {
   "cell_type": "code",
   "execution_count": 184,
   "id": "9eb3886f-a158-4122-882d-4b1ebd31940f",
   "metadata": {},
   "outputs": [
    {
     "data": {
      "text/html": [
       "<div>\n",
       "<style scoped>\n",
       "    .dataframe tbody tr th:only-of-type {\n",
       "        vertical-align: middle;\n",
       "    }\n",
       "\n",
       "    .dataframe tbody tr th {\n",
       "        vertical-align: top;\n",
       "    }\n",
       "\n",
       "    .dataframe thead th {\n",
       "        text-align: right;\n",
       "    }\n",
       "</style>\n",
       "<table border=\"1\" class=\"dataframe\">\n",
       "  <thead>\n",
       "    <tr style=\"text-align: right;\">\n",
       "      <th></th>\n",
       "      <th>respondent_id</th>\n",
       "      <th>h1n1_vaccine</th>\n",
       "      <th>seasonal_vaccine</th>\n",
       "    </tr>\n",
       "  </thead>\n",
       "  <tbody>\n",
       "    <tr>\n",
       "      <th>0</th>\n",
       "      <td>26707</td>\n",
       "      <td>0.188</td>\n",
       "      <td>0.320</td>\n",
       "    </tr>\n",
       "    <tr>\n",
       "      <th>1</th>\n",
       "      <td>26708</td>\n",
       "      <td>0.111</td>\n",
       "      <td>0.085</td>\n",
       "    </tr>\n",
       "    <tr>\n",
       "      <th>2</th>\n",
       "      <td>26709</td>\n",
       "      <td>0.472</td>\n",
       "      <td>0.800</td>\n",
       "    </tr>\n",
       "    <tr>\n",
       "      <th>3</th>\n",
       "      <td>26710</td>\n",
       "      <td>0.628</td>\n",
       "      <td>0.881</td>\n",
       "    </tr>\n",
       "    <tr>\n",
       "      <th>4</th>\n",
       "      <td>26711</td>\n",
       "      <td>0.315</td>\n",
       "      <td>0.495</td>\n",
       "    </tr>\n",
       "  </tbody>\n",
       "</table>\n",
       "</div>"
      ],
      "text/plain": [
       "   respondent_id  h1n1_vaccine  seasonal_vaccine\n",
       "0          26707         0.188             0.320\n",
       "1          26708         0.111             0.085\n",
       "2          26709         0.472             0.800\n",
       "3          26710         0.628             0.881\n",
       "4          26711         0.315             0.495"
      ]
     },
     "execution_count": 184,
     "metadata": {},
     "output_type": "execute_result"
    }
   ],
   "source": [
    "np.testing.assert_array_equal(test_data.index.values, \n",
    "                              submission_form.index.values)\n",
    "\n",
    "# Save predictions to submission data frame\n",
    "submission_form[\"h1n1_vaccine\"] = test_probs[0][:, 1]\n",
    "submission_form[\"seasonal_vaccine\"] = test_probs[1][:, 1]\n",
    "\n",
    "submission_form.head()"
   ]
  },
  {
   "cell_type": "code",
   "execution_count": 185,
   "id": "8f78c9fa-f65d-4787-af04-a27d8b6bec68",
   "metadata": {},
   "outputs": [],
   "source": [
    "submission_form.to_csv('./submission3.csv', index=False)"
   ]
  },
  {
   "cell_type": "code",
   "execution_count": 170,
   "id": "b09cfc8a-45e7-4df9-a0d2-149f633c1d70",
   "metadata": {},
   "outputs": [],
   "source": [
    "test_data = scaler.fit_transform(test_data)"
   ]
  },
  {
   "cell_type": "code",
   "execution_count": 34,
   "id": "e681daeb-3347-4b59-b259-07d346daf2ee",
   "metadata": {},
   "outputs": [],
   "source": [
    "# dropping hhsgeo_regio, census_msa\n",
    "train_features = train_features.drop(columns = ['employment_industry', 'employment_occupation'], axis=1)"
   ]
  },
  {
   "cell_type": "code",
   "execution_count": 35,
   "id": "760feee0-7a12-4793-9f4d-99782723e58c",
   "metadata": {},
   "outputs": [
    {
     "name": "stdout",
     "output_type": "stream",
     "text": [
      "Index(['respondent_id', 'h1n1_concern', 'h1n1_knowledge',\n",
      "       'behavioral_antiviral_meds', 'behavioral_avoidance',\n",
      "       'behavioral_face_mask', 'behavioral_wash_hands',\n",
      "       'behavioral_large_gatherings', 'behavioral_outside_home',\n",
      "       'behavioral_touch_face', 'doctor_recc_h1n1', 'doctor_recc_seasonal',\n",
      "       'chronic_med_condition', 'child_under_6_months', 'health_worker',\n",
      "       'health_insurance', 'opinion_h1n1_vacc_effective', 'opinion_h1n1_risk',\n",
      "       'opinion_h1n1_sick_from_vacc', 'opinion_seas_vacc_effective',\n",
      "       'opinion_seas_risk', 'opinion_seas_sick_from_vacc', 'sex',\n",
      "       'income_poverty', 'marital_status', 'rent_or_own', 'household_adults',\n",
      "       'household_children', 'age_group_35 - 44 Years',\n",
      "       'age_group_45 - 54 Years', 'age_group_55 - 64 Years',\n",
      "       'age_group_65+ Years', 'education_< 12 Years',\n",
      "       'education_College Graduate', 'education_Some College', 'race_Hispanic',\n",
      "       'race_Other or Multiple', 'race_White',\n",
      "       'employment_status_Not in Labor Force', 'employment_status_Unemployed'],\n",
      "      dtype='object')\n",
      "(26707, 40)\n"
     ]
    }
   ],
   "source": [
    "print(train_features.columns)\n",
    "print(train_features.shape)"
   ]
  },
  {
   "cell_type": "code",
   "execution_count": 36,
   "id": "4a959280-8e43-4635-9ad1-3e03bc98a560",
   "metadata": {},
   "outputs": [
    {
     "data": {
      "text/plain": [
       "respondent_id                             int64\n",
       "h1n1_concern                            float64\n",
       "h1n1_knowledge                          float64\n",
       "behavioral_antiviral_meds               float64\n",
       "behavioral_avoidance                    float64\n",
       "behavioral_face_mask                    float64\n",
       "behavioral_wash_hands                   float64\n",
       "behavioral_large_gatherings             float64\n",
       "behavioral_outside_home                 float64\n",
       "behavioral_touch_face                   float64\n",
       "doctor_recc_h1n1                        float64\n",
       "doctor_recc_seasonal                    float64\n",
       "chronic_med_condition                   float64\n",
       "child_under_6_months                    float64\n",
       "health_worker                           float64\n",
       "health_insurance                        float64\n",
       "opinion_h1n1_vacc_effective             float64\n",
       "opinion_h1n1_risk                       float64\n",
       "opinion_h1n1_sick_from_vacc             float64\n",
       "opinion_seas_vacc_effective             float64\n",
       "opinion_seas_risk                       float64\n",
       "opinion_seas_sick_from_vacc             float64\n",
       "sex                                       int64\n",
       "income_poverty                          float64\n",
       "marital_status                          float64\n",
       "rent_or_own                             float64\n",
       "household_adults                        float64\n",
       "household_children                      float64\n",
       "age_group_35 - 44 Years                   uint8\n",
       "age_group_45 - 54 Years                   uint8\n",
       "age_group_55 - 64 Years                   uint8\n",
       "age_group_65+ Years                       uint8\n",
       "education_< 12 Years                      uint8\n",
       "education_College Graduate                uint8\n",
       "education_Some College                    uint8\n",
       "race_Hispanic                             uint8\n",
       "race_Other or Multiple                    uint8\n",
       "race_White                                uint8\n",
       "employment_status_Not in Labor Force      uint8\n",
       "employment_status_Unemployed              uint8\n",
       "dtype: object"
      ]
     },
     "execution_count": 36,
     "metadata": {},
     "output_type": "execute_result"
    }
   ],
   "source": [
    "train_features.dtypes"
   ]
  },
  {
   "cell_type": "code",
   "execution_count": 39,
   "id": "aaadd541-f06a-4b54-ae24-fbf3fa76d4bf",
   "metadata": {},
   "outputs": [],
   "source": [
    "train_targets.set_index('respondent_id')\n",
    "train_features.set_index('respondent_id')\n",
    "df_train = pd.merge(train_features, train_targets, on='respondent_id', how='inner')"
   ]
  },
  {
   "cell_type": "code",
   "execution_count": 41,
   "id": "a68406b6-32c5-456a-8431-e502baa262d3",
   "metadata": {},
   "outputs": [
    {
     "data": {
      "text/plain": [
       "(26707, 42)"
      ]
     },
     "execution_count": 41,
     "metadata": {},
     "output_type": "execute_result"
    }
   ],
   "source": [
    "df_train.shape"
   ]
  },
  {
   "cell_type": "code",
   "execution_count": null,
   "id": "1d860b2b-8b35-4ad3-abcb-863a848426ce",
   "metadata": {},
   "outputs": [],
   "source": []
  },
  {
   "cell_type": "code",
   "execution_count": 49,
   "id": "0131e561-21b6-44de-9880-312353ea2d0b",
   "metadata": {},
   "outputs": [
    {
     "data": {
      "text/plain": [
       "respondent_id                               0\n",
       "h1n1_concern                               92\n",
       "h1n1_knowledge                            116\n",
       "behavioral_antiviral_meds                  71\n",
       "behavioral_avoidance                      208\n",
       "behavioral_face_mask                       19\n",
       "behavioral_wash_hands                      42\n",
       "behavioral_large_gatherings                87\n",
       "behavioral_outside_home                    82\n",
       "behavioral_touch_face                     128\n",
       "doctor_recc_h1n1                         2160\n",
       "doctor_recc_seasonal                     2160\n",
       "chronic_med_condition                     971\n",
       "child_under_6_months                      820\n",
       "health_worker                             804\n",
       "health_insurance                        12274\n",
       "opinion_h1n1_vacc_effective               391\n",
       "opinion_h1n1_risk                         388\n",
       "opinion_h1n1_sick_from_vacc               395\n",
       "opinion_seas_vacc_effective               462\n",
       "opinion_seas_risk                         514\n",
       "opinion_seas_sick_from_vacc               537\n",
       "sex                                         0\n",
       "income_poverty                           4423\n",
       "marital_status                           1408\n",
       "rent_or_own                              2042\n",
       "household_adults                          249\n",
       "household_children                        249\n",
       "age_group_35 - 44 Years                     0\n",
       "age_group_45 - 54 Years                     0\n",
       "age_group_55 - 64 Years                     0\n",
       "age_group_65+ Years                         0\n",
       "education_< 12 Years                        0\n",
       "education_College Graduate                  0\n",
       "education_Some College                      0\n",
       "race_Hispanic                               0\n",
       "race_Other or Multiple                      0\n",
       "race_White                                  0\n",
       "employment_status_Not in Labor Force        0\n",
       "employment_status_Unemployed                0\n",
       "dtype: int64"
      ]
     },
     "execution_count": 49,
     "metadata": {},
     "output_type": "execute_result"
    }
   ],
   "source": [
    "train_features.isnull().sum()"
   ]
  },
  {
   "cell_type": "code",
   "execution_count": 48,
   "id": "14be6faf-a083-421b-b6e3-6e3a4372133f",
   "metadata": {},
   "outputs": [
    {
     "data": {
      "text/html": [
       "<div>\n",
       "<style scoped>\n",
       "    .dataframe tbody tr th:only-of-type {\n",
       "        vertical-align: middle;\n",
       "    }\n",
       "\n",
       "    .dataframe tbody tr th {\n",
       "        vertical-align: top;\n",
       "    }\n",
       "\n",
       "    .dataframe thead th {\n",
       "        text-align: right;\n",
       "    }\n",
       "</style>\n",
       "<table border=\"1\" class=\"dataframe\">\n",
       "  <thead>\n",
       "    <tr style=\"text-align: right;\">\n",
       "      <th></th>\n",
       "      <th>respondent_id</th>\n",
       "      <th>h1n1_concern</th>\n",
       "      <th>h1n1_knowledge</th>\n",
       "      <th>behavioral_antiviral_meds</th>\n",
       "      <th>behavioral_avoidance</th>\n",
       "      <th>behavioral_face_mask</th>\n",
       "      <th>behavioral_wash_hands</th>\n",
       "      <th>behavioral_large_gatherings</th>\n",
       "      <th>behavioral_outside_home</th>\n",
       "      <th>behavioral_touch_face</th>\n",
       "      <th>...</th>\n",
       "      <th>age_group_55 - 64 Years</th>\n",
       "      <th>age_group_65+ Years</th>\n",
       "      <th>education_&lt; 12 Years</th>\n",
       "      <th>education_College Graduate</th>\n",
       "      <th>education_Some College</th>\n",
       "      <th>race_Hispanic</th>\n",
       "      <th>race_Other or Multiple</th>\n",
       "      <th>race_White</th>\n",
       "      <th>employment_status_Not in Labor Force</th>\n",
       "      <th>employment_status_Unemployed</th>\n",
       "    </tr>\n",
       "  </thead>\n",
       "  <tbody>\n",
       "    <tr>\n",
       "      <th>0</th>\n",
       "      <td>0.0</td>\n",
       "      <td>1.0</td>\n",
       "      <td>0.0</td>\n",
       "      <td>0.0</td>\n",
       "      <td>0.0</td>\n",
       "      <td>0.0</td>\n",
       "      <td>0.0</td>\n",
       "      <td>0.0</td>\n",
       "      <td>1.0</td>\n",
       "      <td>1.0</td>\n",
       "      <td>...</td>\n",
       "      <td>1.0</td>\n",
       "      <td>0.0</td>\n",
       "      <td>1.0</td>\n",
       "      <td>0.0</td>\n",
       "      <td>0.0</td>\n",
       "      <td>0.0</td>\n",
       "      <td>0.0</td>\n",
       "      <td>1.0</td>\n",
       "      <td>1.0</td>\n",
       "      <td>0.0</td>\n",
       "    </tr>\n",
       "    <tr>\n",
       "      <th>1</th>\n",
       "      <td>1.0</td>\n",
       "      <td>3.0</td>\n",
       "      <td>2.0</td>\n",
       "      <td>0.0</td>\n",
       "      <td>1.0</td>\n",
       "      <td>0.0</td>\n",
       "      <td>1.0</td>\n",
       "      <td>0.0</td>\n",
       "      <td>1.0</td>\n",
       "      <td>1.0</td>\n",
       "      <td>...</td>\n",
       "      <td>0.0</td>\n",
       "      <td>0.0</td>\n",
       "      <td>0.0</td>\n",
       "      <td>0.0</td>\n",
       "      <td>0.0</td>\n",
       "      <td>0.0</td>\n",
       "      <td>0.0</td>\n",
       "      <td>1.0</td>\n",
       "      <td>0.0</td>\n",
       "      <td>0.0</td>\n",
       "    </tr>\n",
       "    <tr>\n",
       "      <th>2</th>\n",
       "      <td>2.0</td>\n",
       "      <td>1.0</td>\n",
       "      <td>1.0</td>\n",
       "      <td>0.0</td>\n",
       "      <td>1.0</td>\n",
       "      <td>0.0</td>\n",
       "      <td>0.0</td>\n",
       "      <td>0.0</td>\n",
       "      <td>0.0</td>\n",
       "      <td>0.0</td>\n",
       "      <td>...</td>\n",
       "      <td>0.0</td>\n",
       "      <td>0.0</td>\n",
       "      <td>0.0</td>\n",
       "      <td>1.0</td>\n",
       "      <td>0.0</td>\n",
       "      <td>0.0</td>\n",
       "      <td>0.0</td>\n",
       "      <td>1.0</td>\n",
       "      <td>0.0</td>\n",
       "      <td>0.0</td>\n",
       "    </tr>\n",
       "    <tr>\n",
       "      <th>3</th>\n",
       "      <td>3.0</td>\n",
       "      <td>1.0</td>\n",
       "      <td>1.0</td>\n",
       "      <td>0.0</td>\n",
       "      <td>1.0</td>\n",
       "      <td>0.0</td>\n",
       "      <td>1.0</td>\n",
       "      <td>1.0</td>\n",
       "      <td>0.0</td>\n",
       "      <td>0.0</td>\n",
       "      <td>...</td>\n",
       "      <td>0.0</td>\n",
       "      <td>1.0</td>\n",
       "      <td>0.0</td>\n",
       "      <td>0.0</td>\n",
       "      <td>0.0</td>\n",
       "      <td>0.0</td>\n",
       "      <td>0.0</td>\n",
       "      <td>1.0</td>\n",
       "      <td>1.0</td>\n",
       "      <td>0.0</td>\n",
       "    </tr>\n",
       "    <tr>\n",
       "      <th>4</th>\n",
       "      <td>4.0</td>\n",
       "      <td>2.0</td>\n",
       "      <td>1.0</td>\n",
       "      <td>0.0</td>\n",
       "      <td>1.0</td>\n",
       "      <td>0.0</td>\n",
       "      <td>1.0</td>\n",
       "      <td>1.0</td>\n",
       "      <td>0.0</td>\n",
       "      <td>1.0</td>\n",
       "      <td>...</td>\n",
       "      <td>0.0</td>\n",
       "      <td>0.0</td>\n",
       "      <td>0.0</td>\n",
       "      <td>0.0</td>\n",
       "      <td>1.0</td>\n",
       "      <td>0.0</td>\n",
       "      <td>0.0</td>\n",
       "      <td>1.0</td>\n",
       "      <td>0.0</td>\n",
       "      <td>0.0</td>\n",
       "    </tr>\n",
       "  </tbody>\n",
       "</table>\n",
       "<p>5 rows × 40 columns</p>\n",
       "</div>"
      ],
      "text/plain": [
       "   respondent_id  h1n1_concern  h1n1_knowledge  behavioral_antiviral_meds  \\\n",
       "0            0.0           1.0             0.0                        0.0   \n",
       "1            1.0           3.0             2.0                        0.0   \n",
       "2            2.0           1.0             1.0                        0.0   \n",
       "3            3.0           1.0             1.0                        0.0   \n",
       "4            4.0           2.0             1.0                        0.0   \n",
       "\n",
       "   behavioral_avoidance  behavioral_face_mask  behavioral_wash_hands  \\\n",
       "0                   0.0                   0.0                    0.0   \n",
       "1                   1.0                   0.0                    1.0   \n",
       "2                   1.0                   0.0                    0.0   \n",
       "3                   1.0                   0.0                    1.0   \n",
       "4                   1.0                   0.0                    1.0   \n",
       "\n",
       "   behavioral_large_gatherings  behavioral_outside_home  \\\n",
       "0                          0.0                      1.0   \n",
       "1                          0.0                      1.0   \n",
       "2                          0.0                      0.0   \n",
       "3                          1.0                      0.0   \n",
       "4                          1.0                      0.0   \n",
       "\n",
       "   behavioral_touch_face  ...  age_group_55 - 64 Years  age_group_65+ Years  \\\n",
       "0                    1.0  ...                      1.0                  0.0   \n",
       "1                    1.0  ...                      0.0                  0.0   \n",
       "2                    0.0  ...                      0.0                  0.0   \n",
       "3                    0.0  ...                      0.0                  1.0   \n",
       "4                    1.0  ...                      0.0                  0.0   \n",
       "\n",
       "   education_< 12 Years  education_College Graduate  education_Some College  \\\n",
       "0                   1.0                         0.0                     0.0   \n",
       "1                   0.0                         0.0                     0.0   \n",
       "2                   0.0                         1.0                     0.0   \n",
       "3                   0.0                         0.0                     0.0   \n",
       "4                   0.0                         0.0                     1.0   \n",
       "\n",
       "   race_Hispanic  race_Other or Multiple  race_White  \\\n",
       "0            0.0                     0.0         1.0   \n",
       "1            0.0                     0.0         1.0   \n",
       "2            0.0                     0.0         1.0   \n",
       "3            0.0                     0.0         1.0   \n",
       "4            0.0                     0.0         1.0   \n",
       "\n",
       "   employment_status_Not in Labor Force  employment_status_Unemployed  \n",
       "0                                   1.0                           0.0  \n",
       "1                                   0.0                           0.0  \n",
       "2                                   0.0                           0.0  \n",
       "3                                   1.0                           0.0  \n",
       "4                                   0.0                           0.0  \n",
       "\n",
       "[5 rows x 40 columns]"
      ]
     },
     "execution_count": 48,
     "metadata": {},
     "output_type": "execute_result"
    }
   ],
   "source": [
    "# imputing missing values\n",
    "imputer = SimpleImputer(strategy=\"median\")\n",
    "imputer.fit(train_features)\n",
    "simple_np_array = imputer.transform(train_features)\n",
    "train_features_imputed = pd.DataFrame(simple_np_array, columns=train_features.columns)\n",
    "train_features_imputed.head()"
   ]
  },
  {
   "cell_type": "code",
   "execution_count": 59,
   "id": "ab0eb6bc-683b-416b-84ec-72cb4e4f19f8",
   "metadata": {},
   "outputs": [],
   "source": [
    "# poly = PolynomialFeatures(degree=2, interaction_only=True, include_bias=False)\n",
    "# train_features_imputed_poly = poly.fit_transform(train_features_imputed)\n",
    "# df_poly_viz = pd.DataFrame(train_features_imputed_poly, columns=poly.get_feature_names_out(train_features_imputed.columns))\n",
    "# df_poly_viz.head()\n",
    "# ### 820 columns for polynomial features, honestly hard to interpret whats goin on, so going to keep that aside for now\n",
    "# del poly, train_features_imputed_poly, df_poly_viz"
   ]
  },
  {
   "cell_type": "code",
   "execution_count": null,
   "id": "e0d5dac6-c4a2-4c44-9256-c3a1bfb62459",
   "metadata": {},
   "outputs": [],
   "source": []
  },
  {
   "cell_type": "code",
   "execution_count": null,
   "id": "f2002797-f745-4587-bc24-7e29bd5287f0",
   "metadata": {},
   "outputs": [],
   "source": []
  },
  {
   "cell_type": "code",
   "execution_count": 61,
   "id": "6f7a39a8-19c7-42e7-a990-23f20c62324c",
   "metadata": {},
   "outputs": [],
   "source": [
    "# test train split\n",
    "X_train, y_train, X_val, y_val = train_test_split(train_features, train_targets, test_size=0.33, shuffle=True, random_state=42)"
   ]
  },
  {
   "cell_type": "code",
   "execution_count": 62,
   "id": "a5371f5c-21bb-4ca9-bdff-98f117500e30",
   "metadata": {},
   "outputs": [
    {
     "name": "stdout",
     "output_type": "stream",
     "text": [
      "(17893, 40)\n",
      "(8814, 40)\n",
      "(17893, 3)\n",
      "(8814, 3)\n"
     ]
    }
   ],
   "source": [
    "print(X_train.shape)\n",
    "print(y_train.shape)\n",
    "print(X_val.shape)\n",
    "print(y_val.shape)\n"
   ]
  },
  {
   "cell_type": "code",
   "execution_count": 64,
   "id": "918bde8c-e426-4fa5-afe8-8c7dc48f37bc",
   "metadata": {},
   "outputs": [
    {
     "data": {
      "text/plain": [
       "health_insurance                        8290\n",
       "income_poverty                          2907\n",
       "doctor_recc_h1n1                        1466\n",
       "doctor_recc_seasonal                    1466\n",
       "rent_or_own                             1364\n",
       "marital_status                           932\n",
       "chronic_med_condition                    638\n",
       "child_under_6_months                     535\n",
       "health_worker                            529\n",
       "opinion_seas_sick_from_vacc              360\n",
       "opinion_seas_risk                        338\n",
       "opinion_seas_vacc_effective              303\n",
       "opinion_h1n1_vacc_effective              264\n",
       "opinion_h1n1_sick_from_vacc              261\n",
       "opinion_h1n1_risk                        257\n",
       "household_adults                         173\n",
       "household_children                       173\n",
       "behavioral_avoidance                     140\n",
       "behavioral_touch_face                     80\n",
       "h1n1_knowledge                            80\n",
       "behavioral_large_gatherings               61\n",
       "h1n1_concern                              58\n",
       "behavioral_outside_home                   51\n",
       "behavioral_antiviral_meds                 47\n",
       "behavioral_wash_hands                     33\n",
       "behavioral_face_mask                      14\n",
       "race_Other or Multiple                     0\n",
       "race_Hispanic                              0\n",
       "employment_status_Not in Labor Force       0\n",
       "race_White                                 0\n",
       "education_College Graduate                 0\n",
       "education_Some College                     0\n",
       "respondent_id                              0\n",
       "education_< 12 Years                       0\n",
       "age_group_65+ Years                        0\n",
       "age_group_55 - 64 Years                    0\n",
       "age_group_45 - 54 Years                    0\n",
       "age_group_35 - 44 Years                    0\n",
       "sex                                        0\n",
       "employment_status_Unemployed               0\n",
       "dtype: int64"
      ]
     },
     "execution_count": 64,
     "metadata": {},
     "output_type": "execute_result"
    }
   ],
   "source": [
    "X_train.isnull().sum().sort_values(ascending=False)"
   ]
  },
  {
   "cell_type": "code",
   "execution_count": null,
   "id": "2caa98d3-46d3-4cf7-9a27-a9e92460e049",
   "metadata": {},
   "outputs": [],
   "source": []
  }
 ],
 "metadata": {
  "kernelspec": {
   "display_name": "Python 3 (ipykernel)",
   "language": "python",
   "name": "python3"
  },
  "language_info": {
   "codemirror_mode": {
    "name": "ipython",
    "version": 3
   },
   "file_extension": ".py",
   "mimetype": "text/x-python",
   "name": "python",
   "nbconvert_exporter": "python",
   "pygments_lexer": "ipython3",
   "version": "3.8.19"
  }
 },
 "nbformat": 4,
 "nbformat_minor": 5
}
