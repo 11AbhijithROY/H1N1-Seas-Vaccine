{
 "cells": [
  {
   "cell_type": "code",
   "execution_count": 8,
   "id": "ca5b2ea1-7c40-483c-b042-f9f5b7b867e7",
   "metadata": {},
   "outputs": [],
   "source": [
    "import pandas as pd\n",
    "import numpy as np\n",
    "import os\n",
    "\n",
    "import matplotlib.pyplot as plt\n",
    "import seaborn as sns\n",
    "import matplotlib as mpl\n",
    "\n",
    "from sklearn.compose import ColumnTransformer\n",
    "from sklearn.impute import KNNImputer, SimpleImputer\n",
    "from sklearn.linear_model import LogisticRegression\n",
    "from sklearn.svm import LinearSVC\n",
    "from sklearn.metrics import roc_auc_score, balanced_accuracy_score\n",
    "from sklearn.model_selection import cross_validate\n",
    "from sklearn.multioutput import MultiOutputClassifier\n",
    "from sklearn.pipeline import Pipeline\n",
    "from sklearn.preprocessing import StandardScaler, OneHotEncoder\n",
    "from tqdm import tqdm"
   ]
  },
  {
   "cell_type": "code",
   "execution_count": 2,
   "id": "a555c061",
   "metadata": {},
   "outputs": [
    {
     "name": "stdout",
     "output_type": "stream",
     "text": [
      "/Users/abhijithroy/Public/Projects/H1N1andSeasonalV\n"
     ]
    }
   ],
   "source": [
    "!pwd"
   ]
  },
  {
   "cell_type": "code",
   "execution_count": 3,
   "id": "a3b21d21",
   "metadata": {},
   "outputs": [
    {
     "data": {
      "text/plain": [
       "['submission1.csv',\n",
       " 'H1N1predictor.ipynb',\n",
       " 'submission2.csv',\n",
       " 'submission3.csv',\n",
       " 'run2.ipynb',\n",
       " '.ipynb_checkpoints',\n",
       " 'Run3.ipynb',\n",
       " 'data']"
      ]
     },
     "execution_count": 3,
     "metadata": {},
     "output_type": "execute_result"
    }
   ],
   "source": [
    "os.listdir('./')"
   ]
  },
  {
   "cell_type": "code",
   "execution_count": 4,
   "id": "ee358553",
   "metadata": {},
   "outputs": [],
   "source": [
    "# reading data\n",
    "data_path = './data/'\n",
    "X_train = pd.read_csv(f'{data_path}training_set_features.csv').drop('respondent_id', axis=1)\n",
    "X_test = pd.read_csv(f'{data_path}test_set_features.csv').drop('respondent_id', axis=1)\n",
    "y_train = pd.read_csv(f'{data_path}training_set_labels.csv').drop('respondent_id', axis=1)\n",
    "submission_format = pd.read_csv(f'{data_path}submission_format.csv')"
   ]
  },
  {
   "cell_type": "code",
   "execution_count": 5,
   "id": "ebc63a39",
   "metadata": {},
   "outputs": [],
   "source": [
    "# divding the features into numerical and non numerical\n",
    "# preprocessing for numerical involves scaling and imputing using KNN, finally! \n",
    "# (have to think about the optimal knn neighbour)\n",
    "# preprocessing for non numerical/cat involves imputation with 'missing' and one hot encoding,\n",
    "# what about ordinal encoding? mapping it on our own could be one way to try \n",
    "\n",
    "num_features = X_train.columns[X_train.dtypes != \"object\"]\n",
    "cat_features = X_train.columns[X_train.dtypes == \"object\"]\n",
    "\n",
    "num_transformer = Pipeline([\n",
    "    ('scale', StandardScaler()),\n",
    "    ('impute', KNNImputer(n_neighbors=10)),\n",
    "])\n",
    "\n",
    "cat_transformer = Pipeline([\n",
    "    ('impute', SimpleImputer(strategy='constant', fill_value = 'missing')),\n",
    "    ('encode', OneHotEncoder(drop='first'))\n",
    "])\n",
    "\n",
    "preprocesser = ColumnTransformer([\n",
    "    ('numerical', num_transformer, num_features),\n",
    "    ('cat', cat_transformer, cat_features)\n",
    "])"
   ]
  },
  {
   "cell_type": "code",
   "execution_count": 13,
   "id": "4508f01c",
   "metadata": {},
   "outputs": [],
   "source": [
    "def get_model(C = 1):\n",
    "    model = Pipeline([\n",
    "        ('pre', preprocesser),\n",
    "        ('model', MultiOutputClassifier(LogisticRegression(\n",
    "            penalty='l1',\n",
    "            C=C,\n",
    "            solver='saga' # saga? \n",
    "        )))\n",
    "    ])\n",
    "    return model"
   ]
  },
  {
   "cell_type": "code",
   "execution_count": 24,
   "id": "f20c3da1",
   "metadata": {},
   "outputs": [
    {
     "name": "stderr",
     "output_type": "stream",
     "text": [
      "  0%|                                                    | 0/10 [00:00<?, ?it/s]python(5808) MallocStackLogging: can't turn off malloc stack logging because it was not enabled.\n",
      "python(5809) MallocStackLogging: can't turn off malloc stack logging because it was not enabled.\n",
      "python(5810) MallocStackLogging: can't turn off malloc stack logging because it was not enabled.\n",
      "python(5811) MallocStackLogging: can't turn off malloc stack logging because it was not enabled.\n",
      "python(5812) MallocStackLogging: can't turn off malloc stack logging because it was not enabled.\n",
      "/Users/abhijithroy/Public/Projects/miniconda3/envs/ml_env/lib/python3.8/site-packages/sklearn/linear_model/_sag.py:350: ConvergenceWarning: The max_iter was reached which means the coef_ did not converge\n",
      "  warnings.warn(\n",
      "/Users/abhijithroy/Public/Projects/miniconda3/envs/ml_env/lib/python3.8/site-packages/sklearn/linear_model/_sag.py:350: ConvergenceWarning: The max_iter was reached which means the coef_ did not converge\n",
      "  warnings.warn(\n",
      " 10%|████▍                                       | 1/10 [01:13<11:00, 73.38s/it]"
     ]
    },
    {
     "name": "stdout",
     "output_type": "stream",
     "text": [
      "processing for C=0.01\n",
      "New Best AUC Score : 0.8359902310003999 for C=0.01\n"
     ]
    },
    {
     "name": "stderr",
     "output_type": "stream",
     "text": [
      "python(5844) MallocStackLogging: can't turn off malloc stack logging because it was not enabled.\n",
      " 20%|████████▌                                  | 2/10 [03:49<16:17, 122.21s/it]"
     ]
    },
    {
     "name": "stdout",
     "output_type": "stream",
     "text": [
      "processing for C=0.021544346900318832\n",
      "New Best AUC Score : 0.838518992111848 for C=0.021544346900318832\n"
     ]
    },
    {
     "name": "stderr",
     "output_type": "stream",
     "text": [
      "python(6014) MallocStackLogging: can't turn off malloc stack logging because it was not enabled.\n",
      " 30%|████████████▉                              | 3/10 [05:48<14:05, 120.84s/it]"
     ]
    },
    {
     "name": "stdout",
     "output_type": "stream",
     "text": [
      "processing for C=0.046415888336127774\n",
      "New Best AUC Score : 0.8415656950159353 for C=0.046415888336127774\n"
     ]
    },
    {
     "name": "stderr",
     "output_type": "stream",
     "text": [
      " 40%|█████████████████▏                         | 4/10 [07:56<12:21, 123.56s/it]"
     ]
    },
    {
     "name": "stdout",
     "output_type": "stream",
     "text": [
      "processing for C=0.1\n",
      "New Best AUC Score : 0.8426722735413492 for C=0.1\n"
     ]
    },
    {
     "name": "stderr",
     "output_type": "stream",
     "text": [
      "python(6245) MallocStackLogging: can't turn off malloc stack logging because it was not enabled.\n",
      " 50%|█████████████████████▌                     | 5/10 [24:28<36:24, 436.82s/it]"
     ]
    },
    {
     "name": "stdout",
     "output_type": "stream",
     "text": [
      "processing for C=0.21544346900318834\n",
      "New Best AUC Score : 0.8430769757808347 for C=0.21544346900318834\n"
     ]
    },
    {
     "name": "stderr",
     "output_type": "stream",
     "text": [
      "python(6364) MallocStackLogging: can't turn off malloc stack logging because it was not enabled.\n",
      "python(6365) MallocStackLogging: can't turn off malloc stack logging because it was not enabled.\n",
      "python(6366) MallocStackLogging: can't turn off malloc stack logging because it was not enabled.\n",
      "python(6367) MallocStackLogging: can't turn off malloc stack logging because it was not enabled.\n",
      "/Users/abhijithroy/Public/Projects/miniconda3/envs/ml_env/lib/python3.8/site-packages/sklearn/linear_model/_sag.py:350: ConvergenceWarning: The max_iter was reached which means the coef_ did not converge\n",
      "  warnings.warn(\n",
      "/Users/abhijithroy/Public/Projects/miniconda3/envs/ml_env/lib/python3.8/site-packages/sklearn/linear_model/_sag.py:350: ConvergenceWarning: The max_iter was reached which means the coef_ did not converge\n",
      "  warnings.warn(\n",
      "/Users/abhijithroy/Public/Projects/miniconda3/envs/ml_env/lib/python3.8/site-packages/sklearn/linear_model/_sag.py:350: ConvergenceWarning: The max_iter was reached which means the coef_ did not converge\n",
      "  warnings.warn(\n",
      "/Users/abhijithroy/Public/Projects/miniconda3/envs/ml_env/lib/python3.8/site-packages/sklearn/linear_model/_sag.py:350: ConvergenceWarning: The max_iter was reached which means the coef_ did not converge\n",
      "  warnings.warn(\n",
      "python(6368) MallocStackLogging: can't turn off malloc stack logging because it was not enabled.\n",
      " 60%|█████████████████████████▊                 | 6/10 [46:40<49:23, 740.99s/it]"
     ]
    },
    {
     "name": "stdout",
     "output_type": "stream",
     "text": [
      "processing for C=0.46415888336127775\n",
      "New Best AUC Score : 0.843101595847074 for C=0.46415888336127775\n"
     ]
    },
    {
     "name": "stderr",
     "output_type": "stream",
     "text": [
      "python(6485) MallocStackLogging: can't turn off malloc stack logging because it was not enabled.\n",
      "python(6486) MallocStackLogging: can't turn off malloc stack logging because it was not enabled.\n",
      "/Users/abhijithroy/Public/Projects/miniconda3/envs/ml_env/lib/python3.8/site-packages/sklearn/linear_model/_sag.py:350: ConvergenceWarning: The max_iter was reached which means the coef_ did not converge\n",
      "  warnings.warn(\n",
      " 70%|██████████████████████████████             | 7/10 [50:43<28:54, 578.15s/it]"
     ]
    },
    {
     "name": "stdout",
     "output_type": "stream",
     "text": [
      "processing for C=1.0\n"
     ]
    },
    {
     "name": "stderr",
     "output_type": "stream",
     "text": [
      "python(6569) MallocStackLogging: can't turn off malloc stack logging because it was not enabled.\n",
      "/Users/abhijithroy/Public/Projects/miniconda3/envs/ml_env/lib/python3.8/site-packages/sklearn/linear_model/_sag.py:350: ConvergenceWarning: The max_iter was reached which means the coef_ did not converge\n",
      "  warnings.warn(\n",
      "/Users/abhijithroy/Public/Projects/miniconda3/envs/ml_env/lib/python3.8/site-packages/sklearn/linear_model/_sag.py:350: ConvergenceWarning: The max_iter was reached which means the coef_ did not converge\n",
      "  warnings.warn(\n",
      " 80%|████████████████████████████████▊        | 8/10 [1:07:30<23:49, 714.72s/it]"
     ]
    },
    {
     "name": "stdout",
     "output_type": "stream",
     "text": [
      "processing for C=2.154434690031882\n"
     ]
    },
    {
     "name": "stderr",
     "output_type": "stream",
     "text": [
      "python(6654) MallocStackLogging: can't turn off malloc stack logging because it was not enabled.\n",
      "python(6655) MallocStackLogging: can't turn off malloc stack logging because it was not enabled.\n",
      "python(6656) MallocStackLogging: can't turn off malloc stack logging because it was not enabled.\n",
      " 90%|████████████████████████████████████▉    | 9/10 [1:20:51<12:21, 741.79s/it]"
     ]
    },
    {
     "name": "stdout",
     "output_type": "stream",
     "text": [
      "processing for C=4.6415888336127775\n"
     ]
    },
    {
     "name": "stderr",
     "output_type": "stream",
     "text": [
      "python(6749) MallocStackLogging: can't turn off malloc stack logging because it was not enabled.\n",
      "/Users/abhijithroy/Public/Projects/miniconda3/envs/ml_env/lib/python3.8/site-packages/sklearn/linear_model/_sag.py:350: ConvergenceWarning: The max_iter was reached which means the coef_ did not converge\n",
      "  warnings.warn(\n",
      "/Users/abhijithroy/Public/Projects/miniconda3/envs/ml_env/lib/python3.8/site-packages/sklearn/linear_model/_sag.py:350: ConvergenceWarning: The max_iter was reached which means the coef_ did not converge\n",
      "  warnings.warn(\n",
      "/Users/abhijithroy/Public/Projects/miniconda3/envs/ml_env/lib/python3.8/site-packages/sklearn/linear_model/_sag.py:350: ConvergenceWarning: The max_iter was reached which means the coef_ did not converge\n",
      "  warnings.warn(\n",
      "/Users/abhijithroy/Public/Projects/miniconda3/envs/ml_env/lib/python3.8/site-packages/sklearn/linear_model/_sag.py:350: ConvergenceWarning: The max_iter was reached which means the coef_ did not converge\n",
      "  warnings.warn(\n",
      "100%|████████████████████████████████████████| 10/10 [1:22:11<00:00, 493.18s/it]"
     ]
    },
    {
     "name": "stdout",
     "output_type": "stream",
     "text": [
      "processing for C=10.0\n"
     ]
    },
    {
     "name": "stderr",
     "output_type": "stream",
     "text": [
      "\n"
     ]
    }
   ],
   "source": [
    "Cs = np.logspace(-2,1, num=10, base=10)\n",
    "means = []\n",
    "stds = []\n",
    "best_auc = 0\n",
    "for C in tqdm(Cs):\n",
    "    cv = cross_validate(\n",
    "        estimator=get_model(C),\n",
    "        X=X_train,\n",
    "        y=y_train,\n",
    "        cv=5,\n",
    "        n_jobs=-1,\n",
    "        scoring='roc_auc',\n",
    "    )\n",
    "    means.append(np.mean(cv['test_score']))\n",
    "    stds.append(np.std(cv['test_score']))\n",
    "    print(f'processing for C={C}')\n",
    "    if means[-1] > best_auc:\n",
    "        best_C = C\n",
    "        best_auc = means[-1]\n",
    "        print(f'New Best AUC Score : {best_auc} for C={best_C}')\n",
    "        "
   ]
  },
  {
   "cell_type": "code",
   "execution_count": 25,
   "id": "a33ad4b1",
   "metadata": {},
   "outputs": [
    {
     "data": {
      "text/plain": [
       "0.843101595847074"
      ]
     },
     "execution_count": 25,
     "metadata": {},
     "output_type": "execute_result"
    }
   ],
   "source": [
    "best_auc"
   ]
  },
  {
   "cell_type": "code",
   "execution_count": 26,
   "id": "26c45361-47fc-481e-8d7c-f9f9b1e4fcf0",
   "metadata": {},
   "outputs": [
    {
     "data": {
      "text/plain": [
       "0.46415888336127775"
      ]
     },
     "execution_count": 26,
     "metadata": {},
     "output_type": "execute_result"
    }
   ],
   "source": [
    "best_C"
   ]
  },
  {
   "cell_type": "code",
   "execution_count": 27,
   "id": "a62cb79b-47a1-42f6-8445-cf6b63f4939a",
   "metadata": {},
   "outputs": [
    {
     "data": {
      "text/plain": [
       "([0.8359902310003999,\n",
       "  0.838518992111848,\n",
       "  0.8415656950159353,\n",
       "  0.8426722735413492,\n",
       "  0.8430769757808347,\n",
       "  0.843101595847074,\n",
       "  0.8430427369232248,\n",
       "  0.8429654628813299,\n",
       "  0.8429157919223755,\n",
       "  0.8428968304262883],\n",
       " [0.004571904569803102,\n",
       "  0.004337830458229356,\n",
       "  0.004196630161593488,\n",
       "  0.004263008528861613,\n",
       "  0.004260395375044933,\n",
       "  0.004266344162345417,\n",
       "  0.004265279000440527,\n",
       "  0.0042738833279207045,\n",
       "  0.004277829038645269,\n",
       "  0.004270154281318641])"
      ]
     },
     "execution_count": 27,
     "metadata": {},
     "output_type": "execute_result"
    }
   ],
   "source": [
    "means, stds"
   ]
  },
  {
   "cell_type": "code",
   "execution_count": null,
   "id": "a5f5a2f8-6294-406c-ad87-197d04a3fcca",
   "metadata": {},
   "outputs": [],
   "source": []
  }
 ],
 "metadata": {
  "kernelspec": {
   "display_name": "Python 3 (ipykernel)",
   "language": "python",
   "name": "python3"
  },
  "language_info": {
   "codemirror_mode": {
    "name": "ipython",
    "version": 3
   },
   "file_extension": ".py",
   "mimetype": "text/x-python",
   "name": "python",
   "nbconvert_exporter": "python",
   "pygments_lexer": "ipython3",
   "version": "3.8.19"
  }
 },
 "nbformat": 4,
 "nbformat_minor": 5
}
